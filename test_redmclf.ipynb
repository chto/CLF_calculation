{
 "cells": [
  {
   "cell_type": "code",
   "execution_count": 1,
   "metadata": {
    "collapsed": false,
    "deletable": true,
    "editable": true
   },
   "outputs": [
    {
     "name": "stderr",
     "output_type": "stream",
     "text": [
      "/u/ki/chto100/PhilProject/lsst/lib/python2.7/site-packages/matplotlib/__init__.py:816: UserWarning: Found matplotlib configuration in ~/.matplotlib/. To conform with the XDG base directory standard, this configuration location has been deprecated on Linux, and the new location is now /u/ki/chto100/.config/matplotlib/. Please move your configuration there to ensure that matplotlib will continue to find it in the future.\n",
      "  _get_xdg_config_dir())\n"
     ]
    }
   ],
   "source": [
    "import pyfits\n",
    "import numpy as np\n",
    "import scipy as sp\n",
    "from matplotlib import pyplot as plt\n",
    "%matplotlib inline"
   ]
  },
  {
   "cell_type": "code",
   "execution_count": 2,
   "metadata": {
    "collapsed": false,
    "deletable": true,
    "editable": true,
    "scrolled": false
   },
   "outputs": [
    {
     "name": "stdout",
     "output_type": "stream",
     "text": [
      "/u/ki/chto100/code/redmapper_clf/data/redmapper_v6.4.16/y1a1_gold_1.0.3_wide+d10-mof-001b_run_redmapper_v6.4.16_lgt5_vl50_catalog_members.fit\n"
     ]
    }
   ],
   "source": [
    "cat=\"/u/ki/chto100/code/redmapper_clf/data/redmapper_v6.4.16/y1a1_gold_1.0.3_wide+d10-mof-001b_run_redmapper_v6.4.16_lgt5_vl50_catalog.fit\"\n",
    "print cat[:-4]+\"_members.fit\"\n",
    "realcat = pyfits.open(\"/u/ki/chto100/code/redmapper_clf/data/redmapper_v6.4.16/y1a1_gold_1.0.3_wide+d10-mof-001b_run_redmapper_v6.4.16_lgt5_vl50_catalog.fit\")\n",
    "realmem = pyfits.open(\"/u/ki/chto100/code/redmapper_clf/data/redmapper_v6.4.16/y1a1_gold_1.0.3_wide+d10-mof-001b_run_redmapper_v6.4.16_lgt5_vl50_catalog_members.fit\")"
   ]
  },
  {
   "cell_type": "code",
   "execution_count": 6,
   "metadata": {
    "collapsed": false
   },
   "outputs": [
    {
     "data": {
      "text/plain": [
       "(223636, 5)"
      ]
     },
     "execution_count": 6,
     "metadata": {},
     "output_type": "execute_result"
    }
   ],
   "source": []
  },
  {
   "cell_type": "code",
   "execution_count": 23,
   "metadata": {
    "collapsed": false,
    "deletable": true,
    "editable": true
   },
   "outputs": [],
   "source": [
    "cat=realcat[1].data\n",
    "mem=realmem[1].data"
   ]
  },
  {
   "cell_type": "code",
   "execution_count": 24,
   "metadata": {
    "collapsed": false,
    "deletable": true,
    "editable": true,
    "scrolled": true
   },
   "outputs": [
    {
     "name": "stdout",
     "output_type": "stream",
     "text": [
      "[-25.  -24.8 -24.6 -24.4 -24.2 -24.  -23.8 -23.6 -23.4 -23.2 -23.  -22.8\n",
      " -22.6 -22.4 -22.2 -22.  -21.8 -21.6 -21.4 -21.2 -21.  -20.8 -20.6 -20.4\n",
      " -20.2 -20.  -19.8 -19.6 -19.4 -19.2 -19.  -18.8 -18.6 -18.4 -18.2]\n"
     ]
    }
   ],
   "source": [
    "lumbins = np.array(range(35))*0.2-25.\n",
    "#lumbins = np.array(range(35))*0.1+15.\n",
    "print lumbins"
   ]
  },
  {
   "cell_type": "code",
   "execution_count": 25,
   "metadata": {
    "collapsed": true,
    "deletable": true,
    "editable": true
   },
   "outputs": [],
   "source": [
    "kcorr = pyfits.open(\"/nfs/slac/kipac/fs1/u/chto100/redmapper_clf/catche/DES_zlambda_0.3_new_y1a1_gold_1.0.3_wide+d10-mof-001b_run_redmapper_v6.4.16_lgt5_vl50real.fit\")\n",
    "kcorr = kcorr[0].data"
   ]
  },
  {
   "cell_type": "code",
   "execution_count": 26,
   "metadata": {
    "collapsed": false,
    "deletable": true,
    "editable": true
   },
   "outputs": [],
   "source": [
    "mag = mem['REFMAG'] + (kcorr[:,2] - mem['model_mag'][:,3])\n",
    "cengalindex = np.zeros_like(cat['id_cent'])\n",
    "cenmag = np.zeros_like(cengalindex).astype(float)\n",
    "        #Hash table taking galaxy ID to index\n",
    "offset = np.min(mem['id'])\n",
    "g_index = np.zeros(np.max(mem['id'])-offset+1)-1\n",
    "g_index[mem['id']-offset] = np.array(range(len(mem)))\n",
    "#modified by chto to handle that cat['id_cent']=0\n",
    "for i in range(len(cengalindex[0])):\n",
    "    index = np.where(cat['id_cent'][:,i]-offset>=0)\n",
    "    cengalindex[index,i] = g_index[cat['id_cent'][index,i]-offset]\n",
    "    cenmag[index,i] = mag[cengalindex[index,i]]"
   ]
  },
  {
   "cell_type": "code",
   "execution_count": 27,
   "metadata": {
    "collapsed": false,
    "deletable": true,
    "editable": true,
    "scrolled": true
   },
   "outputs": [
    {
     "name": "stdout",
     "output_type": "stream",
     "text": [
      "[[  9.91312802e-01   5.08883549e-03   2.95544486e-03   5.57411811e-04\n",
      "    8.55670587e-05]\n",
      " [  9.99410510e-01   3.49117297e-04   1.94435415e-04   3.69092522e-05\n",
      "    9.01986732e-06]\n",
      " [  7.48739421e-01   1.78796664e-01   6.19009137e-02   7.72900274e-03\n",
      "    2.83397338e-03]\n",
      " ..., \n",
      " [  5.93337715e-01   3.66590917e-01   1.98960137e-02   1.17906723e-02\n",
      "    8.38465150e-03]\n",
      " [  8.09782386e-01   1.85155705e-01   2.91182380e-03   1.48393039e-03\n",
      "    6.66124339e-04]\n",
      " [  8.11088383e-01   1.74758613e-01   7.06633087e-03   5.90787223e-03\n",
      "    1.17881468e-03]]\n"
     ]
    }
   ],
   "source": [
    "print (cat['p_cen'])"
   ]
  },
  {
   "cell_type": "code",
   "execution_count": 28,
   "metadata": {
    "collapsed": false,
    "deletable": true,
    "editable": true
   },
   "outputs": [],
   "source": [
    "cen_select=np.random.uniform(size=len(cat))\n",
    "nclusters=10000\n",
    "cat=cat[:nclusters]\n",
    "cenmag=cenmag[:nclusters]"
   ]
  },
  {
   "cell_type": "code",
   "execution_count": 29,
   "metadata": {
    "collapsed": false,
    "deletable": true,
    "editable": true
   },
   "outputs": [
    {
     "data": {
      "text/plain": [
       "(223636,)"
      ]
     },
     "execution_count": 29,
     "metadata": {},
     "output_type": "execute_result"
    }
   ],
   "source": [
    "cen_select.shape"
   ]
  },
  {
   "cell_type": "code",
   "execution_count": 30,
   "metadata": {
    "collapsed": false,
    "deletable": true,
    "editable": true
   },
   "outputs": [],
   "source": [
    "def count_galaxies_rand_cen(cat,cenmag,cengalindex,lumbins,weight_cen=0):\n",
    "#    nclusters = len(cat)\n",
    "#    nclusters=nclusters\n",
    "    nlum = len(lumbins)\n",
    "    dlum = lumbins[1]-lumbins[0]\n",
    "    minlum = lumbins[0]-dlum/2.\n",
    "\n",
    "    #Make the array that will contain the full count of galaxies\n",
    "    #in each cluster\n",
    "    count_arr = np.zeros([nclusters,nlum])\n",
    "\n",
    "    #randoms for choosing which central\n",
    "    #cen_select = np.random.uniform(size=nclusters)\n",
    "    #Loop over central galaxies, counting each in turn\n",
    "    ncen=1\n",
    "    for i in range(nclusters):\n",
    "        #If weighting, should check all good centrals\n",
    "        if weight_cen==1:\n",
    "            ncen = cat['ncent_good'][i]\n",
    "        mybin = np.floor((cenmag[i,0:ncen]-minlum)/dlum)\n",
    "        mybin = mybin.astype(int)\n",
    "        myskip=False\n",
    "        if ncen==0:\n",
    "            myskip=True\n",
    "        if ncen==1:\n",
    "            if (mybin < 0) | (mybin >= nlum):\n",
    "                myskip=True\n",
    "        if ncen>1:\n",
    "            count = 0\n",
    "            for j in range(ncen):\n",
    "                if (mybin[j] < 0) | (mybin[j] >= nlum):\n",
    "                    count = count+1\n",
    "            if count == ncen:\n",
    "                myskip=True\n",
    "            else:\n",
    "                sublist = np.where( (mybin >= 0 ) & (mybin < nlum))[0]\n",
    "                #print np.where( (mybin >= 0 ) & (mybin < nlum))\n",
    "\n",
    "        if myskip:\n",
    "            continue\n",
    "\n",
    "        #If weighting, do a random selection for the central\n",
    "        if i==11694:\n",
    "            print mybin\n",
    "        if cen_select[i] > np.sum(cat['p_cen'][i][0:ncen]):\n",
    "            continue\n",
    "        for j in range(ncen):\n",
    "            if (cen_select[i] < np.sum(cat['p_cen'][i][0:j+1])) & (mybin[j] >= 0) & (mybin[j] < nlum):\n",
    "                count_arr[i,mybin[j]] += 1.\n",
    "                break\n",
    "\n",
    "    return count_arr"
   ]
  },
  {
   "cell_type": "code",
   "execution_count": 31,
   "metadata": {
    "collapsed": false,
    "deletable": true,
    "editable": true
   },
   "outputs": [],
   "source": [
    "#%time countarr=count_galaxies_rand_cen(cat,cenmag,cengalindex,lumbins,weight_cen=0)"
   ]
  },
  {
   "cell_type": "code",
   "execution_count": 41,
   "metadata": {
    "collapsed": false,
    "deletable": true,
    "editable": true
   },
   "outputs": [],
   "source": [
    "def chto_count_galaxies_rand_cen(cat,cenmag,cengalindex,lumbins,weight_cen=0):\n",
    "    nlum = len(lumbins)\n",
    "#    nclusters = len(cat)\n",
    "#    cen_select=np.random.uniform(size=len(cat))\n",
    "    dlum = lumbins[1]-lumbins[0]\n",
    "    minlum = lumbins[0]-dlum/2.\n",
    "    chto_countArray=np.zeros([len(cat),nlum])\n",
    "    cumCat_p=np.cumsum(cat['p_cen'],axis=1)\n",
    "    mybin = np.floor((cenmag[:,:]-minlum)/dlum).astype(np.int)\n",
    "    if weight_cen:\n",
    "        ncen = np.repeat(cat['ncent_good'].reshape(-1,1),cat['p_cen'].shape[1],axis=1)\n",
    "    else:\n",
    "        ncen = np.repeat(np.ones(cat['p_cen'].shape[0]).reshape(-1,1),cat['p_cen'].shape[1],axis=1)\n",
    "    \n",
    "    cen_select2 = np.repeat(cen_select.reshape(-1,1),cat['p_cen'].shape[1],axis=1)\n",
    "    ys = np.outer(np.ones(cat['p_cen'].shape[0]),np.arange(cat['p_cen'].shape[1]))\n",
    "\n",
    "    mask = ((cumCat_p >= cen_select2)&(mybin>0) & (mybin<nlum)& (ys<ncen)).astype(np.float64)\n",
    "    mask2 = np.cumsum(mask, axis=1)\n",
    "    mask3 = np.cumsum(mask2, axis=1)\n",
    "    mask3[np.where(mask3>1)]=0.\n",
    "    newbin=np.sum((mybin*mask3), axis=1)\n",
    "    mask_new=np.sum(mask3,axis=1)[:, np.newaxis]\n",
    "    indexArray=np.hstack((np.arange(0,cat['p_cen'].shape[0]).reshape(-1,1),newbin.reshape(-1,1))).astype(np.int)\n",
    "    chto_countArray[indexArray[:,0],indexArray[:,1]]=1.\n",
    "    chto_countArray =  chto_countArray*mask_new\n",
    "    return chto_countArray\n",
    "def count_galaxies_p_cen(cat,cenmag,lumbins,weight_cen=0):\n",
    "    nclusters = len(cat)\n",
    "\n",
    "    nlum = len(lumbins)\n",
    "    dlum = lumbins[1]-lumbins[0]\n",
    "    minlum = lumbins[0]-dlum/2.\n",
    "\n",
    "    #Make the array that will contain the full count of galaxies\n",
    "    #in each cluster\n",
    "    count_arr = np.zeros([nclusters,nlum])\n",
    "\n",
    "    #Loop over central galaxies, counting each in turn\n",
    "    ncen=1\n",
    "    for i in range(nclusters):\n",
    "        #If weighting, should check all good centrals\n",
    "        if weight_cen==1:\n",
    "            ncen = cat['ncent_good'][i]\n",
    "        mybin = np.floor((cenmag[i,0:ncen]-minlum)/dlum)\n",
    "        mybin = mybin.astype(int)\n",
    "        myskip=False\n",
    "        if ncen==0:\n",
    "            myskip=True\n",
    "        if ncen==1:\n",
    "            if (mybin < 0) | (mybin >= nlum):\n",
    "                myskip=True\n",
    "        if ncen>1:\n",
    "            count = 0\n",
    "            for j in range(ncen):\n",
    "                if (mybin[j] < 0) | (mybin[j] >= nlum):\n",
    "                    count = count+1\n",
    "            if count == ncen:\n",
    "                myskip=True\n",
    "            else:\n",
    "                sublist = np.where( (mybin >= 0 ) & (mybin < nlum))[0]\n",
    "\n",
    "        if myskip:\n",
    "            continue\n",
    "\n",
    "        if ncen==1:\n",
    "            count_arr[i,mybin] += cat['p_cen'][i][0:ncen]\n",
    "        else:\n",
    "            for j in range(len(sublist)):\n",
    "                count_arr[i,mybin[sublist[j]]] += cat['p_cen'][i][sublist[j]]\n",
    "        #If not weighting, give best central all probability\n",
    "        if weight_cen==0:\n",
    "            count_arr[i,mybin] += cat['p_sat'][i][0:ncen]\n",
    "\n",
    "    return count_arr\n",
    "def chto_count_galaxies_p_cen(cat,cenmag,lumbins,weight_cen=0):\n",
    "    nlum = len(lumbins)\n",
    "#    nclusters = len(cat)\n",
    "#    cen_select=np.random.uniform(size=len(cat))\n",
    "    dlum = lumbins[1]-lumbins[0]\n",
    "    minlum = lumbins[0]-dlum/2.\n",
    "    chto_countArray=np.zeros([len(cat),nlum])\n",
    "    mybin = np.floor((cenmag[:,:]-minlum)/dlum).astype(np.int)\n",
    "    if weight_cen:\n",
    "        ncen = np.repeat(cat['ncent_good'].reshape(-1,1),cat['p_cen'].shape[1],axis=1)\n",
    "        weight = cat['p_cen']\n",
    "    else:\n",
    "        ncen = np.zeros(cat['p_cen'].shape)\n",
    "        ncen = np.hstack(((np.ones(cat['p_cen'].shape[0])).reshape(-1,1),ncen[:,:-1])).astype(np.int) \n",
    "        weight = cat['p_sat']+cat['p_cen']\n",
    "    \n",
    "    ys = np.outer(np.ones(cat['p_cen'].shape[0]),np.arange(cat['p_cen'].shape[1]))\n",
    "    mask = ((mybin>=0) & (mybin<nlum)& (ys<ncen)).astype(np.float64)\n",
    "    newbin=mybin*mask\n",
    "    #index=np.arange(nclusters)\n",
    "    indexArray=np.arange(nlum)\n",
    "    for i in indexArray:\n",
    "        masknew=(mybin==i).astype(np.float64)*mask\n",
    "        newNewbin=np.sum(masknew*weight,axis=1)\n",
    "        chto_countArray[:,i]=newNewbin[:]\n",
    "    return chto_countArray"
   ]
  },
  {
   "cell_type": "code",
   "execution_count": 39,
   "metadata": {
    "collapsed": false,
    "deletable": true,
    "editable": true,
    "scrolled": true
   },
   "outputs": [],
   "source": [
    "#%time chto_countArray=chto_count_galaxies_rand_cen(cat,cenmag,cengalindex,lumbins,weight_cen=0)"
   ]
  },
  {
   "cell_type": "code",
   "execution_count": 42,
   "metadata": {
    "collapsed": false,
    "deletable": true,
    "editable": true,
    "scrolled": true
   },
   "outputs": [
    {
     "name": "stdout",
     "output_type": "stream",
     "text": [
      "CPU times: user 105 ms, sys: 25 ms, total: 130 ms\n",
      "Wall time: 97.8 ms\n"
     ]
    }
   ],
   "source": [
    "#%time countarr_weight=count_galaxies_rand_cen(cat,cenmag,cengalindex,lumbins,weight_cen=1)\n",
    "#%time chto_countArray_weight=chto_count_galaxies_rand_cen(cat,cenmag,cengalindex,lumbins,weight_cen=1)\n",
    "#%time countarr_weight=count_galaxies_p_cen(cat,cenmag,lumbins,weight_cen=0)\n",
    "%time chto_countArray_weight=chto_count_galaxies_p_cen(cat,cenmag,lumbins,weight_cen=0)"
   ]
  },
  {
   "cell_type": "code",
   "execution_count": 43,
   "metadata": {
    "collapsed": false,
    "deletable": true,
    "editable": true
   },
   "outputs": [
    {
     "name": "stdout",
     "output_type": "stream",
     "text": [
      "[ 0.          0.          0.          0.          0.          0.          0.\n",
      "  0.          0.          0.99999858  0.          0.          0.          0.\n",
      "  0.          0.          0.          0.          0.          0.          0.\n",
      "  0.          0.          0.          0.          0.          0.          0.\n",
      "  0.          0.          0.          0.          0.          0.          0.        ]\n",
      "[ 0.          0.          0.          0.          0.          0.          0.\n",
      "  0.          0.          0.99999857  0.          0.          0.          0.\n",
      "  0.          0.          0.          0.          0.          0.          0.\n",
      "  0.          0.          0.          0.          0.          0.          0.\n",
      "  0.          0.          0.          0.          0.          0.          0.        ]\n"
     ]
    }
   ],
   "source": [
    "print countarr_weight[0]\n",
    "print chto_countArray_weight[0]"
   ]
  },
  {
   "cell_type": "code",
   "execution_count": 50,
   "metadata": {
    "collapsed": false,
    "deletable": true,
    "editable": true,
    "scrolled": true
   },
   "outputs": [
    {
     "name": "stdout",
     "output_type": "stream",
     "text": [
      "(array([], dtype=int64), array([], dtype=int64))\n"
     ]
    }
   ],
   "source": [
    "print np.where((countarr_weight[:nclusters]-chto_countArray_weight[:nclusters])>=1E-7)"
   ]
  },
  {
   "cell_type": "code",
   "execution_count": null,
   "metadata": {
    "collapsed": true,
    "deletable": true,
    "editable": true
   },
   "outputs": [],
   "source": []
  }
 ],
 "metadata": {
  "kernelspec": {
   "display_name": "Python 2",
   "language": "python",
   "name": "python2"
  },
  "language_info": {
   "codemirror_mode": {
    "name": "ipython",
    "version": 2
   },
   "file_extension": ".py",
   "mimetype": "text/x-python",
   "name": "python",
   "nbconvert_exporter": "python",
   "pygments_lexer": "ipython2",
   "version": "2.7.3"
  }
 },
 "nbformat": 4,
 "nbformat_minor": 1
}
